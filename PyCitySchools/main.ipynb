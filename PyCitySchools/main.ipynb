{
 "cells": [
  {
   "cell_type": "code",
   "execution_count": null,
   "id": "3040891a",
   "metadata": {},
   "outputs": [],
   "source": [
    "# Get imports\n",
    "import pandas as pd\n",
    "import os\n",
    "\n",
    "# Set path names\n",
    "schools_path = os.path.join('Resources','schools_complete.csv')\n",
    "students_path = os.path.join('Resources','students_complete.csv')\n",
    "\n",
    "# Create dataframes\n",
    "schools_df = pd.read_csv(schools_path, delimiter=',')\n",
    "students_df = pd.read_csv(students_path, delimiter=',')\n",
    "\n",
    "schools_df"
   ]
  },
  {
   "cell_type": "code",
   "execution_count": null,
   "id": "fa504d80",
   "metadata": {},
   "outputs": [],
   "source": [
    "# Total number of schools in district is length of schools data frame\n",
    "total_schools = len(schools_df)\n",
    "# Total number of students in district is length of students data frame\n",
    "total_students = len(students_df)\n",
    "# Total budget for district is the sum of the budget column in schools data frame\n",
    "total_budget = schools_df['budget'].sum()\n",
    "# Average math = mean of student's math scores\n",
    "average_math_score = round(students_df['math_score'].mean())\n",
    "# Average reading = mean of student's reading scores\n",
    "average_reading_score = round(students_df['reading_score'].mean())\n",
    "\n",
    "# Create variable to control passing grade - default is higher than 60\n",
    "passing = 69.99999\n",
    "\n",
    "# Create a new boolean column in students data frame for if studennt is passing math \n",
    "students_df.loc[students_df['math_score'] > passing, 'passing_math'] = True\n",
    "students_df.loc[students_df['math_score'] <= passing, 'passing_math'] = False\n",
    "# Total number of students passing math is length of studnets data frame with passing math True\n",
    "total_passing_math = len(students_df[students_df['passing_math'] == True])\n",
    "# Percent passing math is total number passing math divided by total number of students\n",
    "total_percent_math = round(100 * total_passing_math / total_students, 2)\n",
    "\n",
    "# Create boolean column for passing reading\n",
    "students_df.loc[students_df['reading_score'] > passing, 'passing_reading'] = True\n",
    "students_df.loc[students_df['reading_score'] <= passing, 'passing_reading'] = False\n",
    "# Total number of students passing reading is length of students data frame with passing reading Ture\n",
    "total_passing_reading = len(students_df[students_df['passing_reading'] == True])\n",
    "# Percent passing reading is total number passing reading / total number of students\n",
    "total_percent_reading = round(100* total_passing_reading / total_students, 2)\n",
    "\n",
    "# Create a 3rd boolean column for passing total = passing math and passing reading\n",
    "students_df['passing_overall'] = False\n",
    "students_df.loc[(students_df['passing_math'] == True) & (students_df['passing_reading'] == True), 'passing_overall'] = True\n",
    "# Total number of students passing overall is length of students dataframe with passing overall True\n",
    "total_passing_overall = len(students_df[students_df['passing_overall'] == True])\n",
    "# Percent passing overall is total number passing overall / total number of students\n",
    "total_percent_overall = round(100 * total_passing_overall / total_students, 2)\n",
    "\n",
    "students_df"
   ]
  },
  {
   "cell_type": "code",
   "execution_count": null,
   "id": "d5ef3523",
   "metadata": {
    "scrolled": true
   },
   "outputs": [],
   "source": [
    "# Create dataframe with results\n",
    "district_df = pd.DataFrame({'Total Number of Schools':total_schools, 'Total Number of Students':\"{:,}\".format(total_students), 'Total Budget':f'${\"{:,}\".format(total_budget)}', 'Average Math Score':average_math_score, 'Average Reading Score':average_reading_score, '% Passing Math':total_percent_math, '% Passing Reading':total_percent_reading, '% Passing Overall':total_percent_overall},index=['District'])\n",
    "district_df"
   ]
  },
  {
   "cell_type": "code",
   "execution_count": null,
   "id": "0cddb908",
   "metadata": {},
   "outputs": [],
   "source": [
    "summary_df = schools_df[['type','size','budget']]\n",
    "summary_df.set_axis(schools_df['school_name'], axis ='index', inplace=True)\n",
    "summary_df.rename_axis('', inplace=True)\n",
    "summary_df = summary_df.sort_index()"
   ]
  },
  {
   "cell_type": "code",
   "execution_count": null,
   "id": "5ded5177",
   "metadata": {},
   "outputs": [],
   "source": []
  }
 ],
 "metadata": {
  "kernelspec": {
   "display_name": "PythonData38",
   "language": "python",
   "name": "pythondata38"
  },
  "language_info": {
   "codemirror_mode": {
    "name": "ipython",
    "version": 3
   },
   "file_extension": ".py",
   "mimetype": "text/x-python",
   "name": "python",
   "nbconvert_exporter": "python",
   "pygments_lexer": "ipython3",
   "version": "3.9.12"
  }
 },
 "nbformat": 4,
 "nbformat_minor": 5
}
